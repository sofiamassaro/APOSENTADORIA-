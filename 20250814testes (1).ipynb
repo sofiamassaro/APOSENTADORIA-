{
  "nbformat": 4,
  "nbformat_minor": 0,
  "metadata": {
    "colab": {
      "provenance": []
    },
    "kernelspec": {
      "name": "python3",
      "display_name": "Python 3"
    },
    "language_info": {
      "name": "python"
    }
  },
  "cells": [
    {
      "cell_type": "markdown",
      "source": [
        "Por que usamos .upper()?\n",
        "\n",
        "O método .upper() transforma todas as letras do texto em maiúsculas.\n",
        "\n",
        "Isso ajuda porque o usuário pode digitar de formas diferentes, por exemplo:\n",
        "\n",
        "m → maiúsculo fica M\n",
        "\n",
        "f → maiúsculo fica F\n",
        "\n",
        "Masculino → maiúsculo fica MASCULINO\n",
        "\n",
        "Dessa forma, o código não dá erro por causa de letras minúsculas. Ele sempre compara de forma uniforme, sem se preocupar se o usuário digitou m, M, f ou F.\n",
        "\n",
        "if → “Se isso for verdadeiro, faça algo”\n",
        "\n",
        "elif → “Senão, se isso outro for verdadeiro, faça isso”\n",
        "\n",
        "else → “Senão, faça outra coisa (quando nada acima for verdadeiro)”"
      ],
      "metadata": {
        "id": "2wi4ErcrpWnb"
      }
    },
    {
      "cell_type": "code",
      "execution_count": 22,
      "metadata": {
        "id": "1a0DK8kNaRYS",
        "colab": {
          "base_uri": "https://localhost:8080/"
        },
        "outputId": "760a236b-66ec-4d66-ee0e-4332881158d4"
      },
      "outputs": [
        {
          "output_type": "stream",
          "name": "stdout",
          "text": [
            "Digite seu nome: sofia \n",
            "Digite seu sobrenome:  massaro \n",
            "Digite sua idade aqui:  61 \n",
            "Digite seu sexo aqui (M para masculino e F para feminino): F \n",
            "Olá, sofia  massaro  de acordo os seus dados você já atingiu a idade para se aposentar.\n"
          ]
        }
      ],
      "source": [
        "#Coleta de informações\n",
        "nome= input(\"Digite seu nome: \")\n",
        "sobrenome= input(\"Digite seu sobrenome:  \")\n",
        "idade= int(input(\"Digite sua idade aqui:  \"))\n",
        "sexo= input(\"Digite seu sexo aqui (M para masculino e F para feminino): \").upper()\n",
        "\n",
        "#Definir as variavéis\n",
        "if sexo==\"F\":\n",
        "    idade_aposentadoria= 60\n",
        "elif sexo==\"M\":\n",
        "    idade_aposentadoria= 65\n",
        "\n",
        "#Calcular a aposentadoria\n",
        "anos_faltam= idade_aposentadoria-idade\n",
        "\n",
        "#Saída\n",
        "\n",
        "if anos_faltam < 0:\n",
        "    print(f\"Olá,\",nome,sobrenome,\"de acordo os seus dados você já atingiu a idade para se aposentar.\")\n",
        "\n",
        "else:\n",
        "    print(f\"Olá,\",nome,sobrenome,\"de acordo os seus dados ainda faltam\", anos_faltam, \" anos para você se aposentar.\")"
      ]
    }
  ]
}